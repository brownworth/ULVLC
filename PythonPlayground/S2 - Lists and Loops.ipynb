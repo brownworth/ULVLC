{
 "cells": [
  {
   "cell_type": "markdown",
   "metadata": {},
   "source": [
    "# ULVLC Session 2: Lists and Loops"
   ]
  },
  {
   "cell_type": "markdown",
   "metadata": {},
   "source": [
    "This is a cell in **Markdown**. [Markdown](https://en.wikipedia.org/wiki/Markdown) is an \\*ahem\\* _markup_ language. It's intended to be simple to use and easy to read. Using Markdown cells interspersed through your code gives you ways to indicate information about this notebook. To change a cell from `code` to Markdown, look for the little dropdown menu in the area just above this cell.\n",
    "\n",
    "If you'd like more information about Markdown in Jupyter notebooks, check out [Markdown Cells in Jupyter](https://jupyter-notebook.readthedocs.io/en/stable/examples/Notebook/Working%20With%20Markdown%20Cells.html)"
   ]
  },
  {
   "cell_type": "markdown",
   "metadata": {},
   "source": [
    "This is a review of the datatypes from the previous lesson:\n",
    "\n",
    "- `cats` is an integer\n",
    "- `miles` is a float (notice the decimal!)\n",
    "- `lyric` is a string\n",
    "- `ate_dinner` is a boolean"
   ]
  },
  {
   "cell_type": "code",
   "execution_count": 1,
   "metadata": {},
   "outputs": [],
   "source": [
    "cats = 3\n",
    "miles = 26.2\n",
    "lyric = \"I am the very model of a modern major general\"\n",
    "ate_dinner = True"
   ]
  },
  {
   "cell_type": "markdown",
   "metadata": {},
   "source": [
    "Here I'm printing the value in a variable, and then printing the variable type. Try changing the variable name to see the difference. _Remember: you can use CMD or CTRL to create multiple cursors!_"
   ]
  },
  {
   "cell_type": "code",
   "execution_count": 2,
   "metadata": {},
   "outputs": [
    {
     "name": "stdout",
     "output_type": "stream",
     "text": [
      "I am the very model of a modern major general\n",
      "<class 'str'>\n"
     ]
    }
   ],
   "source": [
    "print(lyric)\n",
    "print(type(lyric))"
   ]
  },
  {
   "cell_type": "markdown",
   "metadata": {},
   "source": [
    "In the next cell, I'm experimenting with conditionals and comments. A comment allows you to indicate something you need to remember about the following code, but it also can be used to _toggle_ code. Try removing the `#` on line 2 and re running the cell."
   ]
  },
  {
   "cell_type": "code",
   "execution_count": 3,
   "metadata": {},
   "outputs": [
    {
     "name": "stdout",
     "output_type": "stream",
     "text": [
      "I am comfortable with this number of cats.\n"
     ]
    }
   ],
   "source": [
    "cats = 3\n",
    "#cats = cats + 1\n",
    "if cats < 4:\n",
    "    print(\"I am comfortable with this number of cats.\")\n",
    "else:\n",
    "    print(\"hol up, honey...\")"
   ]
  },
  {
   "cell_type": "markdown",
   "metadata": {},
   "source": [
    "This is a list of strings"
   ]
  },
  {
   "cell_type": "code",
   "execution_count": 4,
   "metadata": {},
   "outputs": [],
   "source": [
    "groceries = ['apples','bananas','cheese','detergent','eggs']"
   ]
  },
  {
   "cell_type": "code",
   "execution_count": 5,
   "metadata": {},
   "outputs": [
    {
     "data": {
      "text/plain": [
       "list"
      ]
     },
     "execution_count": 5,
     "metadata": {},
     "output_type": "execute_result"
    }
   ],
   "source": [
    "type(groceries)"
   ]
  },
  {
   "cell_type": "markdown",
   "metadata": {},
   "source": [
    "Lists are **zero indexed**. That means that the item in position **zero** is the **first** item in the list. If you want to get the _third_ item, you need to get the item in position 2. Using the square brackets: `[]` and an integer, you can directly access that item."
   ]
  },
  {
   "cell_type": "code",
   "execution_count": 6,
   "metadata": {},
   "outputs": [
    {
     "data": {
      "text/plain": [
       "'apples'"
      ]
     },
     "execution_count": 6,
     "metadata": {},
     "output_type": "execute_result"
    }
   ],
   "source": [
    "groceries[0]"
   ]
  },
  {
   "cell_type": "code",
   "execution_count": 7,
   "metadata": {},
   "outputs": [
    {
     "data": {
      "text/plain": [
       "'cheese'"
      ]
     },
     "execution_count": 7,
     "metadata": {},
     "output_type": "execute_result"
    }
   ],
   "source": [
    "groceries[2]"
   ]
  },
  {
   "cell_type": "markdown",
   "metadata": {},
   "source": [
    "Using the single-equal-sign, we can _assign_ a new value to an item in a list. (I really should verify that the plural of **avocado** is like the plural of **potato**)"
   ]
  },
  {
   "cell_type": "code",
   "execution_count": 8,
   "metadata": {},
   "outputs": [],
   "source": [
    "groceries[0] = 'avocadoes'"
   ]
  },
  {
   "cell_type": "code",
   "execution_count": 9,
   "metadata": {},
   "outputs": [
    {
     "data": {
      "text/plain": [
       "['avocadoes', 'bananas', 'cheese', 'detergent', 'eggs']"
      ]
     },
     "execution_count": 9,
     "metadata": {},
     "output_type": "execute_result"
    }
   ],
   "source": [
    "groceries"
   ]
  },
  {
   "cell_type": "markdown",
   "metadata": {},
   "source": [
    "A list doesn't have to be strings. This one is a list of integers:"
   ]
  },
  {
   "cell_type": "code",
   "execution_count": 10,
   "metadata": {},
   "outputs": [],
   "source": [
    "people_in_classes = [5,15,2,10,6,8]"
   ]
  },
  {
   "cell_type": "code",
   "execution_count": 11,
   "metadata": {},
   "outputs": [
    {
     "data": {
      "text/plain": [
       "list"
      ]
     },
     "execution_count": 11,
     "metadata": {},
     "output_type": "execute_result"
    }
   ],
   "source": [
    "type(people_in_classes)"
   ]
  },
  {
   "cell_type": "code",
   "execution_count": 12,
   "metadata": {},
   "outputs": [
    {
     "data": {
      "text/plain": [
       "int"
      ]
     },
     "execution_count": 12,
     "metadata": {},
     "output_type": "execute_result"
    }
   ],
   "source": [
    "type(people_in_classes[0])"
   ]
  },
  {
   "cell_type": "markdown",
   "metadata": {},
   "source": [
    "We can perform operations on the items in a list, just like they were variables. Check out what happens to the list when we print it, change it, and print it again:"
   ]
  },
  {
   "cell_type": "code",
   "execution_count": 13,
   "metadata": {},
   "outputs": [
    {
     "name": "stdout",
     "output_type": "stream",
     "text": [
      "[5, 15, 2, 10, 6, 8]\n",
      "[6, 15, 2, 10, 6, 8]\n"
     ]
    }
   ],
   "source": [
    "print(people_in_classes)\n",
    "people_in_classes[0] = people_in_classes[0] + 1\n",
    "print(people_in_classes)"
   ]
  },
  {
   "cell_type": "markdown",
   "metadata": {},
   "source": [
    "Lists do not have to be consistent with the datatypes they contain. Here is a list of strings and integers:"
   ]
  },
  {
   "cell_type": "code",
   "execution_count": 14,
   "metadata": {},
   "outputs": [],
   "source": [
    "sports_and_players = ['football',2,'basketball',5,'baseball',3]"
   ]
  },
  {
   "cell_type": "code",
   "execution_count": 15,
   "metadata": {},
   "outputs": [
    {
     "data": {
      "text/plain": [
       "list"
      ]
     },
     "execution_count": 15,
     "metadata": {},
     "output_type": "execute_result"
    }
   ],
   "source": [
    "type(sports_and_players)"
   ]
  },
  {
   "cell_type": "code",
   "execution_count": 16,
   "metadata": {},
   "outputs": [
    {
     "data": {
      "text/plain": [
       "str"
      ]
     },
     "execution_count": 16,
     "metadata": {},
     "output_type": "execute_result"
    }
   ],
   "source": [
    "type(sports_and_players[0])"
   ]
  },
  {
   "cell_type": "code",
   "execution_count": 17,
   "metadata": {
    "scrolled": true
   },
   "outputs": [
    {
     "data": {
      "text/plain": [
       "int"
      ]
     },
     "execution_count": 17,
     "metadata": {},
     "output_type": "execute_result"
    }
   ],
   "source": [
    "type(sports_and_players[1])"
   ]
  },
  {
   "cell_type": "markdown",
   "metadata": {},
   "source": [
    "Now we are using a `for` loop to go through each item in a list and perform an action. Going through a list one item at a time, in order, is known as _iteration_. We can evaluate the item with conditionals and decide what to do based upon its content:"
   ]
  },
  {
   "cell_type": "code",
   "execution_count": 18,
   "metadata": {},
   "outputs": [
    {
     "name": "stdout",
     "output_type": "stream",
     "text": [
      "I love to eat avocadoes\n",
      "I love to eat bananas\n",
      "I love to eat cheese\n",
      "No one should eat detergent.\n",
      "I love to eat eggs\n"
     ]
    }
   ],
   "source": [
    "for item in groceries:\n",
    "    if (item == 'detergent'):\n",
    "        print(f\"No one should eat {item}.\")\n",
    "    else:\n",
    "        print(f\"I love to eat {item}\")"
   ]
  },
  {
   "cell_type": "markdown",
   "metadata": {},
   "source": [
    "A quick way to create a list of consecutive integers is to use the `range()` command. By itself, it lets you know the information about the range. By default, _passing_ a single integer to the range command assumes you would like to start at zero; stop before you get to the number supplied; and go from one number to the next by adding one."
   ]
  },
  {
   "cell_type": "code",
   "execution_count": 19,
   "metadata": {},
   "outputs": [
    {
     "data": {
      "text/plain": [
       "range(0, 10)"
      ]
     },
     "execution_count": 19,
     "metadata": {},
     "output_type": "execute_result"
    }
   ],
   "source": [
    "range(10)"
   ]
  },
  {
   "cell_type": "markdown",
   "metadata": {},
   "source": [
    "If we pass the `range()` command to the `list()` command _as an argument_ , we can use this to create a list of integers."
   ]
  },
  {
   "cell_type": "code",
   "execution_count": 20,
   "metadata": {},
   "outputs": [
    {
     "data": {
      "text/plain": [
       "[0, 1, 2, 3, 4, 5, 6, 7, 8, 9]"
      ]
     },
     "execution_count": 20,
     "metadata": {},
     "output_type": "execute_result"
    }
   ],
   "source": [
    "list(range(10))"
   ]
  },
  {
   "cell_type": "markdown",
   "metadata": {},
   "source": [
    "We can even specify the starting number, the number we don't want to exceed, and the number we want to add to each number to get to the next one. For this example, we start at 5, add 2 to get 7, add 2 to get 9, and so on. Adding 2 to 13 would be more than the 15 we specified, so we stop there.\n",
    "\n",
    "This is a simple way to get the odd numbers from 5 to 14 (remember, we stop before getting to 15)."
   ]
  },
  {
   "cell_type": "code",
   "execution_count": 21,
   "metadata": {},
   "outputs": [
    {
     "data": {
      "text/plain": [
       "[5, 7, 9, 11, 13]"
      ]
     },
     "execution_count": 21,
     "metadata": {},
     "output_type": "execute_result"
    }
   ],
   "source": [
    "list(range(5,15,2))"
   ]
  },
  {
   "cell_type": "markdown",
   "metadata": {},
   "source": [
    "This group of commands would get the multiples of three less than 31:"
   ]
  },
  {
   "cell_type": "code",
   "execution_count": 22,
   "metadata": {},
   "outputs": [
    {
     "data": {
      "text/plain": [
       "[0, 3, 6, 9, 12, 15, 18, 21, 24, 27, 30]"
      ]
     },
     "execution_count": 22,
     "metadata": {},
     "output_type": "execute_result"
    }
   ],
   "source": [
    "list(range(0,31,3))"
   ]
  },
  {
   "cell_type": "markdown",
   "metadata": {},
   "source": [
    "We can use the `for` loop to pull values out of a `range()` like a list:"
   ]
  },
  {
   "cell_type": "code",
   "execution_count": 23,
   "metadata": {},
   "outputs": [
    {
     "name": "stdout",
     "output_type": "stream",
     "text": [
      "0\n",
      "1\n",
      "2\n",
      "3\n",
      "4\n",
      "5\n",
      "6\n",
      "7\n",
      "8\n",
      "9\n"
     ]
    }
   ],
   "source": [
    "for i in range(10):\n",
    "    print(i)"
   ]
  },
  {
   "cell_type": "markdown",
   "metadata": {},
   "source": [
    "Using `i` as a temporary bucket to hold an item in a list is a very common convention. Many times you'll see `i` and `j` used for this purpose."
   ]
  },
  {
   "cell_type": "markdown",
   "metadata": {},
   "source": [
    "We can even do conditional evaluations on the values we pull out of the range. Here we're using something new, the _else if_ or `elif` which allows for a second (or third, or fourth, etc.) `if` statement. \n",
    "\n",
    "When we encounter the first `if` statement, we check to see if it is true. **If** it is, we run the indented text. If not, we then check to see if there is an `elif` that matches the condition checked or run the `else` statement when nothing else applies. Once all of these are checked, we go back to the top and start with the next item in the list/range.\n",
    "\n",
    "(Oh, and the number in line six is not meant to be a criticism. I'm sure you know best what the correct number of cats is for your lifestyle. Try adjusting this number to your tastes and run the code again!)"
   ]
  },
  {
   "cell_type": "code",
   "execution_count": 24,
   "metadata": {},
   "outputs": [
    {
     "name": "stdout",
     "output_type": "stream",
     "text": [
      "I would sure like a cat.\n",
      "I have one cat, but I'd like some more.\n",
      "2 cats is the perfect number of cats.\n",
      "3 cats is the perfect number of cats.\n",
      "4 cats is the perfect number of cats.\n",
      "5 cats is the perfect number of cats.\n",
      "6 cats is the perfect number of cats.\n",
      "I don't need any more cats.\n",
      "I don't need any more cats.\n",
      "I don't need any more cats.\n",
      "That is all I need to say about cat ownership.\n"
     ]
    }
   ],
   "source": [
    "for i in range(10):\n",
    "    if i == 0:\n",
    "        print(\"I would sure like a cat.\")\n",
    "    elif i == 1:\n",
    "        print(\"I have one cat, but I'd like some more.\")\n",
    "    elif i < 7:\n",
    "        print(f\"{i} cats is the perfect number of cats.\")\n",
    "    else:\n",
    "        print(\"I don't need any more cats.\")\n",
    "print(\"That is all I need to say about cat ownership.\")"
   ]
  }
 ],
 "metadata": {
  "kernelspec": {
   "display_name": "Python 3",
   "language": "python",
   "name": "python3"
  },
  "language_info": {
   "codemirror_mode": {
    "name": "ipython",
    "version": 3
   },
   "file_extension": ".py",
   "mimetype": "text/x-python",
   "name": "python",
   "nbconvert_exporter": "python",
   "pygments_lexer": "ipython3",
   "version": "3.7.6"
  }
 },
 "nbformat": 4,
 "nbformat_minor": 4
}
