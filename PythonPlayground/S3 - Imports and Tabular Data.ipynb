{
 "cells": [
  {
   "cell_type": "markdown",
   "metadata": {},
   "source": [
    "# ULVLC Session 3: Imports and Tabular Data"
   ]
  },
  {
   "cell_type": "markdown",
   "metadata": {},
   "source": [
    "In this session, we'll be learning about how to expand Python's functionality through the use of modules, and use a specific module for working with tabular data, Pandas."
   ]
  },
  {
   "cell_type": "markdown",
   "metadata": {},
   "source": [
    "Python has a number of math functions built in, like addition, subtraction, multiplication, and division. Below, the double-asterisk is the exponential function.\n",
    "$$5^2 = 25$$"
   ]
  },
  {
   "cell_type": "code",
   "execution_count": 1,
   "metadata": {
    "scrolled": true
   },
   "outputs": [
    {
     "data": {
      "text/plain": [
       "25"
      ]
     },
     "execution_count": 1,
     "metadata": {},
     "output_type": "execute_result"
    }
   ],
   "source": [
    "5**2"
   ]
  },
  {
   "cell_type": "markdown",
   "metadata": {},
   "source": [
    "Python can do a lot of things, but it's built around the idea that the most frequently used items are included, but the other stuff can be added in as necessary. Think of a minivan. It's a great vehicle for taking a bunch of people to the beach, or to the mountains, or to the grocery store. But, you're probably not bringing your skis when you go pick up a few boxes of Kraft Mac & Cheese. Or, maybe you are. Who am I to judge?\n",
    "\n",
    "In any case, if you _want_ to bring skis or waveboards to the grocery, you have the option. And if you don't want or need your floaties, they're not taking up space."
   ]
  },
  {
   "cell_type": "markdown",
   "metadata": {},
   "source": [
    "In this first cell, we're going to import the `math` module. This gives us access to many more math specific functions. Think of this like the difference between a normal calculator and a scientific one."
   ]
  },
  {
   "cell_type": "code",
   "execution_count": 2,
   "metadata": {},
   "outputs": [],
   "source": [
    "import math"
   ]
  },
  {
   "cell_type": "markdown",
   "metadata": {},
   "source": [
    "Now we can do things like square root:\n",
    "$$\\sqrt{25}= 5$$"
   ]
  },
  {
   "cell_type": "code",
   "execution_count": 3,
   "metadata": {},
   "outputs": [
    {
     "data": {
      "text/plain": [
       "5.0"
      ]
     },
     "execution_count": 3,
     "metadata": {},
     "output_type": "execute_result"
    }
   ],
   "source": [
    "math.sqrt(25)"
   ]
  },
  {
   "cell_type": "markdown",
   "metadata": {},
   "source": [
    "Here we see using the `sqrt()` function requires that we provide the context by writing out the name of the module that provides it: `math.sqrt()`. Just writing `sqrt()` doesn't work, though:"
   ]
  },
  {
   "cell_type": "code",
   "execution_count": 4,
   "metadata": {},
   "outputs": [
    {
     "ename": "NameError",
     "evalue": "name 'sqrt' is not defined",
     "output_type": "error",
     "traceback": [
      "\u001b[0;31m---------------------------------------------------------------------------\u001b[0m",
      "\u001b[0;31mNameError\u001b[0m                                 Traceback (most recent call last)",
      "\u001b[0;32m<ipython-input-4-1bf613b64533>\u001b[0m in \u001b[0;36m<module>\u001b[0;34m\u001b[0m\n\u001b[0;32m----> 1\u001b[0;31m \u001b[0msqrt\u001b[0m\u001b[0;34m(\u001b[0m\u001b[0;36m25\u001b[0m\u001b[0;34m)\u001b[0m\u001b[0;34m\u001b[0m\u001b[0;34m\u001b[0m\u001b[0m\n\u001b[0m",
      "\u001b[0;31mNameError\u001b[0m: name 'sqrt' is not defined"
     ]
    }
   ],
   "source": [
    "sqrt(25)"
   ]
  },
  {
   "cell_type": "markdown",
   "metadata": {},
   "source": [
    "When there's a period or dot between two things, usually, the one on the left of the period provides the context for the one on the right. In the case of `math.sqrt()` the `math` part refers to the module that gives us the `sqrt()` capability. This way, if for some reason there's _another_ `sqrt()` out there, we're specifying which one to use. It's like if your partner goes out and you ask them to buy **oil**. Hopefully the context is implied, but what if they bought _motor oil_ when you wanted _olive oil_? That's a horrible pesto."
   ]
  },
  {
   "cell_type": "markdown",
   "metadata": {},
   "source": [
    "It's even possible to use the module multiple times in the same statement. Remember this gem from trigonometry:\n",
    "$$\\sin{\\frac{\\pi}{6}} = \\frac{1}{2}$$"
   ]
  },
  {
   "cell_type": "code",
   "execution_count": 5,
   "metadata": {},
   "outputs": [
    {
     "data": {
      "text/plain": [
       "0.49999999999999994"
      ]
     },
     "execution_count": 5,
     "metadata": {},
     "output_type": "execute_result"
    }
   ],
   "source": [
    "math.sin(math.pi/6)"
   ]
  },
  {
   "cell_type": "markdown",
   "metadata": {},
   "source": [
    "But, we're _programmers_, right? What is the most important unifying characteristic of programmers? We're \\[efficient\\]. We don't want to type extra letters if we don't have to. In the example above, we're typing math twice. That's entirely too much. What if we put in a shortcut?"
   ]
  },
  {
   "cell_type": "code",
   "execution_count": 6,
   "metadata": {},
   "outputs": [],
   "source": [
    "import math as mt"
   ]
  },
  {
   "cell_type": "code",
   "execution_count": 7,
   "metadata": {},
   "outputs": [
    {
     "data": {
      "text/plain": [
       "0.49999999999999994"
      ]
     },
     "execution_count": 7,
     "metadata": {},
     "output_type": "execute_result"
    }
   ],
   "source": [
    "mt.sin(mt.pi/6)"
   ]
  },
  {
   "cell_type": "markdown",
   "metadata": {},
   "source": [
    "By using the **as** we can call it whatever we want! In this case, I've removed two characters from the name, which is a savings of... um... uh..."
   ]
  },
  {
   "cell_type": "code",
   "execution_count": 8,
   "metadata": {},
   "outputs": [
    {
     "name": "stdout",
     "output_type": "stream",
     "text": [
      "50.0%\n"
     ]
    }
   ],
   "source": [
    "print(f'{(4-2)*100/4}%')"
   ]
  },
  {
   "cell_type": "markdown",
   "metadata": {},
   "source": [
    "yay!"
   ]
  },
  {
   "cell_type": "markdown",
   "metadata": {},
   "source": [
    "But back to the lesson at hand, why all of that to talk about tabular data? Well, Python has a famous module for dealing with tabular data, and it has a just-as-famous shortcut."
   ]
  },
  {
   "cell_type": "code",
   "execution_count": 9,
   "metadata": {},
   "outputs": [],
   "source": [
    "import pandas as pd"
   ]
  },
  {
   "cell_type": "markdown",
   "metadata": {},
   "source": [
    "Pandas is the module for working with data in rows and columns. It has a lot of functionality for data science applications, and is an all-around great tool to learn.\n",
    "\n",
    "To begin, we'll talk about some of the other stuff we've covered in previous lessons. Remember lists and ranges?"
   ]
  },
  {
   "cell_type": "code",
   "execution_count": 10,
   "metadata": {},
   "outputs": [
    {
     "data": {
      "text/plain": [
       "[0, 1, 2, 3, 4, 5, 6, 7, 8, 9]"
      ]
     },
     "execution_count": 10,
     "metadata": {},
     "output_type": "execute_result"
    }
   ],
   "source": [
    "list(range(10))"
   ]
  },
  {
   "cell_type": "markdown",
   "metadata": {},
   "source": [
    "This is a quick list of the values starting at 0, and going all the way up to (but not including) 10. It's good to remember that Python is _zero-indexed_, meaning the first item in a list (or other things) is in the zero position."
   ]
  },
  {
   "cell_type": "markdown",
   "metadata": {},
   "source": [
    "We can specify a different starting point by putting that as the first number, and the endpoint as the second number."
   ]
  },
  {
   "cell_type": "code",
   "execution_count": 11,
   "metadata": {},
   "outputs": [
    {
     "data": {
      "text/plain": [
       "[3, 4, 5, 6, 7, 8, 9, 10, 11, 12, 13, 14, 15, 16, 17, 18, 19]"
      ]
     },
     "execution_count": 11,
     "metadata": {},
     "output_type": "execute_result"
    }
   ],
   "source": [
    "list(range(3,20))"
   ]
  },
  {
   "cell_type": "markdown",
   "metadata": {},
   "source": [
    "We can even specify how much we _step_ from one value to the next with the third number in the range. Here we get the odd numbers starting at 3 and going up to 19: 3+2 = 5, 5+2 = 7, etc."
   ]
  },
  {
   "cell_type": "code",
   "execution_count": 12,
   "metadata": {},
   "outputs": [
    {
     "data": {
      "text/plain": [
       "[3, 5, 7, 9, 11, 13, 15, 17, 19]"
      ]
     },
     "execution_count": 12,
     "metadata": {},
     "output_type": "execute_result"
    }
   ],
   "source": [
    "list(range(3,20,2))"
   ]
  },
  {
   "cell_type": "markdown",
   "metadata": {},
   "source": [
    "Well, now, we're going to give (or pass) this list to the Pandas `Series()` command:"
   ]
  },
  {
   "cell_type": "code",
   "execution_count": 13,
   "metadata": {},
   "outputs": [
    {
     "data": {
      "text/plain": [
       "0     3\n",
       "1     5\n",
       "2     7\n",
       "3     9\n",
       "4    11\n",
       "5    13\n",
       "6    15\n",
       "7    17\n",
       "8    19\n",
       "dtype: int64"
      ]
     },
     "execution_count": 13,
     "metadata": {},
     "output_type": "execute_result"
    }
   ],
   "source": [
    "pd.Series(range(3,20,2))"
   ]
  },
  {
   "cell_type": "markdown",
   "metadata": {},
   "source": [
    "A `Series` in Pandas is just like a single row, or column in a spreadsheet. And you can see the same values from the previous cell. But, notice there's another set of numbers on the left side? That's the _index_. Pandas loves a good index. We didn't have to specify one - Pandas just stuck it in there. This way, we're always certain of the location of something. We can change the index to other things, as we'll see later. It's also important to note: the index is zero-indexed, just like our positions in the lists before."
   ]
  },
  {
   "cell_type": "markdown",
   "metadata": {},
   "source": [
    "Now, we're going to use one of the more common commands in Pandas: `read_csv()`. This will take a string as an _argument_ between the parentheses. And, if the file is in a CSV format, Pandas will import it and turn it into something we can use. Here we're taking a list of dog licenses for Allegheny County, PA.\n",
    "\n",
    "For more items like this, please check out [Data.Gov](https://www.data.gov). This particular dataset came from [Allegheny County Dog Licenses - Data.gov](https://catalog.data.gov/dataset/allegheny-county-dog-licenses)\n",
    "\n",
    "As an aside, I love working with real data. We can do stuff with hypotheticals all day long. Sometimes, it's just nice to see real solutions from real sources. Anyway, back to the lesson..."
   ]
  },
  {
   "cell_type": "code",
   "execution_count": 14,
   "metadata": {},
   "outputs": [],
   "source": [
    "doggos = pd.read_csv('./doglicenses.csv')"
   ]
  },
  {
   "cell_type": "markdown",
   "metadata": {},
   "source": [
    "We've taken this comma-separated-values file and imported it using the `pd.read_csv()` command, and put it in the variable `doggos`. But what **is** doggos?"
   ]
  },
  {
   "cell_type": "code",
   "execution_count": 15,
   "metadata": {},
   "outputs": [
    {
     "data": {
      "text/plain": [
       "pandas.core.frame.DataFrame"
      ]
     },
     "execution_count": 15,
     "metadata": {},
     "output_type": "execute_result"
    }
   ],
   "source": [
    "type(doggos)"
   ]
  },
  {
   "cell_type": "markdown",
   "metadata": {},
   "source": [
    "This is a new data structure in Pandas, the DataFrame. A DataFrame is just like a rectangular spreadsheet. It can have rows AND columns, where a Series is just one or the other. In fact, a DataFrame is just a Series of Series (es?)\n",
    "\n",
    "Let's see what a DataFrame looks like:"
   ]
  },
  {
   "cell_type": "code",
   "execution_count": 16,
   "metadata": {},
   "outputs": [
    {
     "data": {
      "text/html": [
       "<div>\n",
       "<style scoped>\n",
       "    .dataframe tbody tr th:only-of-type {\n",
       "        vertical-align: middle;\n",
       "    }\n",
       "\n",
       "    .dataframe tbody tr th {\n",
       "        vertical-align: top;\n",
       "    }\n",
       "\n",
       "    .dataframe thead th {\n",
       "        text-align: right;\n",
       "    }\n",
       "</style>\n",
       "<table border=\"1\" class=\"dataframe\">\n",
       "  <thead>\n",
       "    <tr style=\"text-align: right;\">\n",
       "      <th></th>\n",
       "      <th>LicenseType</th>\n",
       "      <th>Breed</th>\n",
       "      <th>Color</th>\n",
       "      <th>DogName</th>\n",
       "      <th>OwnerZip</th>\n",
       "      <th>ExpYear</th>\n",
       "      <th>ValidDate</th>\n",
       "    </tr>\n",
       "  </thead>\n",
       "  <tbody>\n",
       "    <tr>\n",
       "      <th>0</th>\n",
       "      <td>Dog Lifetime Spayed Female</td>\n",
       "      <td>POODLE MIX</td>\n",
       "      <td>WHITE/BLACK</td>\n",
       "      <td>OREO</td>\n",
       "      <td>15024</td>\n",
       "      <td>2099</td>\n",
       "      <td>2010-02-04T16:13:03</td>\n",
       "    </tr>\n",
       "    <tr>\n",
       "      <th>1</th>\n",
       "      <td>Dog Lifetime Neutered Male</td>\n",
       "      <td>SHEPHERD MIX</td>\n",
       "      <td>BLACK/TAN</td>\n",
       "      <td>PEPPER</td>\n",
       "      <td>15024</td>\n",
       "      <td>2099</td>\n",
       "      <td>2010-02-04T16:13:03</td>\n",
       "    </tr>\n",
       "    <tr>\n",
       "      <th>2</th>\n",
       "      <td>Dog Lifetime Duplicate</td>\n",
       "      <td>LABRADOR RETRIEVER</td>\n",
       "      <td>YELLOW</td>\n",
       "      <td>PETE</td>\n",
       "      <td>15143</td>\n",
       "      <td>2099</td>\n",
       "      <td>2010-02-05T09:27:37</td>\n",
       "    </tr>\n",
       "    <tr>\n",
       "      <th>3</th>\n",
       "      <td>Dog Lifetime Duplicate</td>\n",
       "      <td>LAB MIX</td>\n",
       "      <td>BLACK</td>\n",
       "      <td>MILLIE</td>\n",
       "      <td>15102</td>\n",
       "      <td>2099</td>\n",
       "      <td>2010-02-05T09:36:02</td>\n",
       "    </tr>\n",
       "    <tr>\n",
       "      <th>4</th>\n",
       "      <td>Dog Lifetime Neutered Male</td>\n",
       "      <td>LAB MIX</td>\n",
       "      <td>BROWN</td>\n",
       "      <td>COOPER</td>\n",
       "      <td>15234</td>\n",
       "      <td>2099</td>\n",
       "      <td>2010-02-05T10:39:59</td>\n",
       "    </tr>\n",
       "    <tr>\n",
       "      <th>...</th>\n",
       "      <td>...</td>\n",
       "      <td>...</td>\n",
       "      <td>...</td>\n",
       "      <td>...</td>\n",
       "      <td>...</td>\n",
       "      <td>...</td>\n",
       "      <td>...</td>\n",
       "    </tr>\n",
       "    <tr>\n",
       "      <th>32192</th>\n",
       "      <td>Dog Senior Lifetime Male</td>\n",
       "      <td>CHIHUAHUA</td>\n",
       "      <td>BLACK</td>\n",
       "      <td>MOE</td>\n",
       "      <td>15234</td>\n",
       "      <td>2099</td>\n",
       "      <td>2020-06-30T13:55:38</td>\n",
       "    </tr>\n",
       "    <tr>\n",
       "      <th>32193</th>\n",
       "      <td>Dog Lifetime Neutered Male</td>\n",
       "      <td>JACK RUSSEL TERRIER</td>\n",
       "      <td>WHITE/BROWN</td>\n",
       "      <td>LINK</td>\n",
       "      <td>15205</td>\n",
       "      <td>2099</td>\n",
       "      <td>2020-07-01T14:02:31</td>\n",
       "    </tr>\n",
       "    <tr>\n",
       "      <th>32194</th>\n",
       "      <td>Dog Lifetime Neutered Male</td>\n",
       "      <td>AM PIT BULL TERRIER</td>\n",
       "      <td>SPOTTED</td>\n",
       "      <td>BAILEY SIMPSON</td>\n",
       "      <td>15238</td>\n",
       "      <td>2099</td>\n",
       "      <td>2020-07-01T14:07:15</td>\n",
       "    </tr>\n",
       "    <tr>\n",
       "      <th>32195</th>\n",
       "      <td>Dog Lifetime Neutered Male</td>\n",
       "      <td>AM PIT BULL TERRIER</td>\n",
       "      <td>OTHER</td>\n",
       "      <td>EINSTEIN</td>\n",
       "      <td>15238</td>\n",
       "      <td>2099</td>\n",
       "      <td>2020-07-01T14:11:41</td>\n",
       "    </tr>\n",
       "    <tr>\n",
       "      <th>32196</th>\n",
       "      <td>Dog Lifetime Spayed Female</td>\n",
       "      <td>MIXED</td>\n",
       "      <td>SPOTTED</td>\n",
       "      <td>BELLA</td>\n",
       "      <td>15065</td>\n",
       "      <td>2099</td>\n",
       "      <td>2020-07-01T14:36:45</td>\n",
       "    </tr>\n",
       "  </tbody>\n",
       "</table>\n",
       "<p>32197 rows × 7 columns</p>\n",
       "</div>"
      ],
      "text/plain": [
       "                      LicenseType                Breed        Color  \\\n",
       "0      Dog Lifetime Spayed Female           POODLE MIX  WHITE/BLACK   \n",
       "1      Dog Lifetime Neutered Male         SHEPHERD MIX    BLACK/TAN   \n",
       "2          Dog Lifetime Duplicate   LABRADOR RETRIEVER       YELLOW   \n",
       "3          Dog Lifetime Duplicate              LAB MIX        BLACK   \n",
       "4      Dog Lifetime Neutered Male              LAB MIX        BROWN   \n",
       "...                           ...                  ...          ...   \n",
       "32192    Dog Senior Lifetime Male            CHIHUAHUA        BLACK   \n",
       "32193  Dog Lifetime Neutered Male  JACK RUSSEL TERRIER  WHITE/BROWN   \n",
       "32194  Dog Lifetime Neutered Male  AM PIT BULL TERRIER      SPOTTED   \n",
       "32195  Dog Lifetime Neutered Male  AM PIT BULL TERRIER        OTHER   \n",
       "32196  Dog Lifetime Spayed Female                MIXED      SPOTTED   \n",
       "\n",
       "              DogName  OwnerZip  ExpYear            ValidDate  \n",
       "0                OREO     15024     2099  2010-02-04T16:13:03  \n",
       "1              PEPPER     15024     2099  2010-02-04T16:13:03  \n",
       "2                PETE     15143     2099  2010-02-05T09:27:37  \n",
       "3              MILLIE     15102     2099  2010-02-05T09:36:02  \n",
       "4              COOPER     15234     2099  2010-02-05T10:39:59  \n",
       "...               ...       ...      ...                  ...  \n",
       "32192             MOE     15234     2099  2020-06-30T13:55:38  \n",
       "32193            LINK     15205     2099  2020-07-01T14:02:31  \n",
       "32194  BAILEY SIMPSON     15238     2099  2020-07-01T14:07:15  \n",
       "32195        EINSTEIN     15238     2099  2020-07-01T14:11:41  \n",
       "32196           BELLA     15065     2099  2020-07-01T14:36:45  \n",
       "\n",
       "[32197 rows x 7 columns]"
      ]
     },
     "execution_count": 16,
     "metadata": {},
     "output_type": "execute_result"
    }
   ],
   "source": [
    "doggos"
   ]
  },
  {
   "cell_type": "markdown",
   "metadata": {},
   "source": [
    "Pandas has done some really neat things here. By default, it assumed the first line in the CSV file contained the headers, or column names. It put an index with every single row. And when we preview the DataFrame, it shows us the first five and last five rows by default. If we wanted to look at a particular number of rows from the top or bottom, we can use the `.head()` or `.tail()` _methods_ with an integer _argument_. Want to see the first eight rows?"
   ]
  },
  {
   "cell_type": "code",
   "execution_count": 17,
   "metadata": {},
   "outputs": [
    {
     "data": {
      "text/html": [
       "<div>\n",
       "<style scoped>\n",
       "    .dataframe tbody tr th:only-of-type {\n",
       "        vertical-align: middle;\n",
       "    }\n",
       "\n",
       "    .dataframe tbody tr th {\n",
       "        vertical-align: top;\n",
       "    }\n",
       "\n",
       "    .dataframe thead th {\n",
       "        text-align: right;\n",
       "    }\n",
       "</style>\n",
       "<table border=\"1\" class=\"dataframe\">\n",
       "  <thead>\n",
       "    <tr style=\"text-align: right;\">\n",
       "      <th></th>\n",
       "      <th>LicenseType</th>\n",
       "      <th>Breed</th>\n",
       "      <th>Color</th>\n",
       "      <th>DogName</th>\n",
       "      <th>OwnerZip</th>\n",
       "      <th>ExpYear</th>\n",
       "      <th>ValidDate</th>\n",
       "    </tr>\n",
       "  </thead>\n",
       "  <tbody>\n",
       "    <tr>\n",
       "      <th>0</th>\n",
       "      <td>Dog Lifetime Spayed Female</td>\n",
       "      <td>POODLE MIX</td>\n",
       "      <td>WHITE/BLACK</td>\n",
       "      <td>OREO</td>\n",
       "      <td>15024</td>\n",
       "      <td>2099</td>\n",
       "      <td>2010-02-04T16:13:03</td>\n",
       "    </tr>\n",
       "    <tr>\n",
       "      <th>1</th>\n",
       "      <td>Dog Lifetime Neutered Male</td>\n",
       "      <td>SHEPHERD MIX</td>\n",
       "      <td>BLACK/TAN</td>\n",
       "      <td>PEPPER</td>\n",
       "      <td>15024</td>\n",
       "      <td>2099</td>\n",
       "      <td>2010-02-04T16:13:03</td>\n",
       "    </tr>\n",
       "    <tr>\n",
       "      <th>2</th>\n",
       "      <td>Dog Lifetime Duplicate</td>\n",
       "      <td>LABRADOR RETRIEVER</td>\n",
       "      <td>YELLOW</td>\n",
       "      <td>PETE</td>\n",
       "      <td>15143</td>\n",
       "      <td>2099</td>\n",
       "      <td>2010-02-05T09:27:37</td>\n",
       "    </tr>\n",
       "    <tr>\n",
       "      <th>3</th>\n",
       "      <td>Dog Lifetime Duplicate</td>\n",
       "      <td>LAB MIX</td>\n",
       "      <td>BLACK</td>\n",
       "      <td>MILLIE</td>\n",
       "      <td>15102</td>\n",
       "      <td>2099</td>\n",
       "      <td>2010-02-05T09:36:02</td>\n",
       "    </tr>\n",
       "    <tr>\n",
       "      <th>4</th>\n",
       "      <td>Dog Lifetime Neutered Male</td>\n",
       "      <td>LAB MIX</td>\n",
       "      <td>BROWN</td>\n",
       "      <td>COOPER</td>\n",
       "      <td>15234</td>\n",
       "      <td>2099</td>\n",
       "      <td>2010-02-05T10:39:59</td>\n",
       "    </tr>\n",
       "    <tr>\n",
       "      <th>5</th>\n",
       "      <td>Dog Lifetime Spayed Female</td>\n",
       "      <td>LAB MIX</td>\n",
       "      <td>BLACK</td>\n",
       "      <td>CLEOPATRA</td>\n",
       "      <td>15234</td>\n",
       "      <td>2099</td>\n",
       "      <td>2010-02-05T10:50:40</td>\n",
       "    </tr>\n",
       "    <tr>\n",
       "      <th>6</th>\n",
       "      <td>Dog Lifetime Neutered Male</td>\n",
       "      <td>GER SHEPHERD MIX</td>\n",
       "      <td>BROWN</td>\n",
       "      <td>ARNOLD</td>\n",
       "      <td>15024</td>\n",
       "      <td>2099</td>\n",
       "      <td>2010-02-05T11:19:32</td>\n",
       "    </tr>\n",
       "    <tr>\n",
       "      <th>7</th>\n",
       "      <td>Dog Lifetime Neutered Male</td>\n",
       "      <td>COCKAPOO</td>\n",
       "      <td>WHITE/TAN</td>\n",
       "      <td>BEN</td>\n",
       "      <td>15218</td>\n",
       "      <td>2099</td>\n",
       "      <td>2010-02-05T11:26:13</td>\n",
       "    </tr>\n",
       "  </tbody>\n",
       "</table>\n",
       "</div>"
      ],
      "text/plain": [
       "                  LicenseType               Breed        Color    DogName  \\\n",
       "0  Dog Lifetime Spayed Female          POODLE MIX  WHITE/BLACK       OREO   \n",
       "1  Dog Lifetime Neutered Male        SHEPHERD MIX    BLACK/TAN     PEPPER   \n",
       "2      Dog Lifetime Duplicate  LABRADOR RETRIEVER       YELLOW       PETE   \n",
       "3      Dog Lifetime Duplicate             LAB MIX        BLACK     MILLIE   \n",
       "4  Dog Lifetime Neutered Male             LAB MIX        BROWN     COOPER   \n",
       "5  Dog Lifetime Spayed Female             LAB MIX        BLACK  CLEOPATRA   \n",
       "6  Dog Lifetime Neutered Male    GER SHEPHERD MIX        BROWN     ARNOLD   \n",
       "7  Dog Lifetime Neutered Male            COCKAPOO    WHITE/TAN        BEN   \n",
       "\n",
       "   OwnerZip  ExpYear            ValidDate  \n",
       "0     15024     2099  2010-02-04T16:13:03  \n",
       "1     15024     2099  2010-02-04T16:13:03  \n",
       "2     15143     2099  2010-02-05T09:27:37  \n",
       "3     15102     2099  2010-02-05T09:36:02  \n",
       "4     15234     2099  2010-02-05T10:39:59  \n",
       "5     15234     2099  2010-02-05T10:50:40  \n",
       "6     15024     2099  2010-02-05T11:19:32  \n",
       "7     15218     2099  2010-02-05T11:26:13  "
      ]
     },
     "execution_count": 17,
     "metadata": {},
     "output_type": "execute_result"
    }
   ],
   "source": [
    "doggos.head(8)"
   ]
  },
  {
   "cell_type": "markdown",
   "metadata": {},
   "source": [
    "If we want to look at a specific part of the DataFrame, we can use some square brackets. We've used square brackets before, when we wanted to look at a value in a specific position in a list. We'll be doing something similar here. If we wanted to look at a column of dog names, we just need to put that in some square brackets:"
   ]
  },
  {
   "cell_type": "code",
   "execution_count": 18,
   "metadata": {},
   "outputs": [
    {
     "data": {
      "text/plain": [
       "0                  OREO\n",
       "1                PEPPER\n",
       "2                  PETE\n",
       "3                MILLIE\n",
       "4                COOPER\n",
       "              ...      \n",
       "32192               MOE\n",
       "32193              LINK\n",
       "32194    BAILEY SIMPSON\n",
       "32195          EINSTEIN\n",
       "32196             BELLA\n",
       "Name: DogName, Length: 32197, dtype: object"
      ]
     },
     "execution_count": 18,
     "metadata": {},
     "output_type": "execute_result"
    }
   ],
   "source": [
    "doggos['DogName']"
   ]
  },
  {
   "cell_type": "markdown",
   "metadata": {},
   "source": [
    "What we've done here is asked the DataFrame to give us the Series that is the `DogName` column. We can do this with any of the column names. If we want to look at more than one column at a time, we can put a list in there, like this:"
   ]
  },
  {
   "cell_type": "code",
   "execution_count": 19,
   "metadata": {},
   "outputs": [
    {
     "data": {
      "text/plain": [
       "list"
      ]
     },
     "execution_count": 19,
     "metadata": {},
     "output_type": "execute_result"
    }
   ],
   "source": [
    "type(['DogName','Breed'])"
   ]
  },
  {
   "cell_type": "code",
   "execution_count": 20,
   "metadata": {},
   "outputs": [
    {
     "data": {
      "text/html": [
       "<div>\n",
       "<style scoped>\n",
       "    .dataframe tbody tr th:only-of-type {\n",
       "        vertical-align: middle;\n",
       "    }\n",
       "\n",
       "    .dataframe tbody tr th {\n",
       "        vertical-align: top;\n",
       "    }\n",
       "\n",
       "    .dataframe thead th {\n",
       "        text-align: right;\n",
       "    }\n",
       "</style>\n",
       "<table border=\"1\" class=\"dataframe\">\n",
       "  <thead>\n",
       "    <tr style=\"text-align: right;\">\n",
       "      <th></th>\n",
       "      <th>DogName</th>\n",
       "      <th>Breed</th>\n",
       "    </tr>\n",
       "  </thead>\n",
       "  <tbody>\n",
       "    <tr>\n",
       "      <th>0</th>\n",
       "      <td>OREO</td>\n",
       "      <td>POODLE MIX</td>\n",
       "    </tr>\n",
       "    <tr>\n",
       "      <th>1</th>\n",
       "      <td>PEPPER</td>\n",
       "      <td>SHEPHERD MIX</td>\n",
       "    </tr>\n",
       "    <tr>\n",
       "      <th>2</th>\n",
       "      <td>PETE</td>\n",
       "      <td>LABRADOR RETRIEVER</td>\n",
       "    </tr>\n",
       "    <tr>\n",
       "      <th>3</th>\n",
       "      <td>MILLIE</td>\n",
       "      <td>LAB MIX</td>\n",
       "    </tr>\n",
       "    <tr>\n",
       "      <th>4</th>\n",
       "      <td>COOPER</td>\n",
       "      <td>LAB MIX</td>\n",
       "    </tr>\n",
       "    <tr>\n",
       "      <th>...</th>\n",
       "      <td>...</td>\n",
       "      <td>...</td>\n",
       "    </tr>\n",
       "    <tr>\n",
       "      <th>32192</th>\n",
       "      <td>MOE</td>\n",
       "      <td>CHIHUAHUA</td>\n",
       "    </tr>\n",
       "    <tr>\n",
       "      <th>32193</th>\n",
       "      <td>LINK</td>\n",
       "      <td>JACK RUSSEL TERRIER</td>\n",
       "    </tr>\n",
       "    <tr>\n",
       "      <th>32194</th>\n",
       "      <td>BAILEY SIMPSON</td>\n",
       "      <td>AM PIT BULL TERRIER</td>\n",
       "    </tr>\n",
       "    <tr>\n",
       "      <th>32195</th>\n",
       "      <td>EINSTEIN</td>\n",
       "      <td>AM PIT BULL TERRIER</td>\n",
       "    </tr>\n",
       "    <tr>\n",
       "      <th>32196</th>\n",
       "      <td>BELLA</td>\n",
       "      <td>MIXED</td>\n",
       "    </tr>\n",
       "  </tbody>\n",
       "</table>\n",
       "<p>32197 rows × 2 columns</p>\n",
       "</div>"
      ],
      "text/plain": [
       "              DogName                Breed\n",
       "0                OREO           POODLE MIX\n",
       "1              PEPPER         SHEPHERD MIX\n",
       "2                PETE   LABRADOR RETRIEVER\n",
       "3              MILLIE              LAB MIX\n",
       "4              COOPER              LAB MIX\n",
       "...               ...                  ...\n",
       "32192             MOE            CHIHUAHUA\n",
       "32193            LINK  JACK RUSSEL TERRIER\n",
       "32194  BAILEY SIMPSON  AM PIT BULL TERRIER\n",
       "32195        EINSTEIN  AM PIT BULL TERRIER\n",
       "32196           BELLA                MIXED\n",
       "\n",
       "[32197 rows x 2 columns]"
      ]
     },
     "execution_count": 20,
     "metadata": {},
     "output_type": "execute_result"
    }
   ],
   "source": [
    "doggos[['DogName','Breed']]"
   ]
  },
  {
   "cell_type": "markdown",
   "metadata": {},
   "source": [
    "It may be confusing to see that double set of square brackets: `[[]]`. If you don't like the look of that list, you can assign it to a variable, and then put the variable in the place of the list, like this:"
   ]
  },
  {
   "cell_type": "code",
   "execution_count": 21,
   "metadata": {},
   "outputs": [],
   "source": [
    "two_things = ['DogName','Breed']"
   ]
  },
  {
   "cell_type": "code",
   "execution_count": 22,
   "metadata": {},
   "outputs": [
    {
     "data": {
      "text/plain": [
       "list"
      ]
     },
     "execution_count": 22,
     "metadata": {},
     "output_type": "execute_result"
    }
   ],
   "source": [
    "type(two_things)"
   ]
  },
  {
   "cell_type": "code",
   "execution_count": 23,
   "metadata": {},
   "outputs": [
    {
     "data": {
      "text/html": [
       "<div>\n",
       "<style scoped>\n",
       "    .dataframe tbody tr th:only-of-type {\n",
       "        vertical-align: middle;\n",
       "    }\n",
       "\n",
       "    .dataframe tbody tr th {\n",
       "        vertical-align: top;\n",
       "    }\n",
       "\n",
       "    .dataframe thead th {\n",
       "        text-align: right;\n",
       "    }\n",
       "</style>\n",
       "<table border=\"1\" class=\"dataframe\">\n",
       "  <thead>\n",
       "    <tr style=\"text-align: right;\">\n",
       "      <th></th>\n",
       "      <th>DogName</th>\n",
       "      <th>Breed</th>\n",
       "    </tr>\n",
       "  </thead>\n",
       "  <tbody>\n",
       "    <tr>\n",
       "      <th>0</th>\n",
       "      <td>OREO</td>\n",
       "      <td>POODLE MIX</td>\n",
       "    </tr>\n",
       "    <tr>\n",
       "      <th>1</th>\n",
       "      <td>PEPPER</td>\n",
       "      <td>SHEPHERD MIX</td>\n",
       "    </tr>\n",
       "    <tr>\n",
       "      <th>2</th>\n",
       "      <td>PETE</td>\n",
       "      <td>LABRADOR RETRIEVER</td>\n",
       "    </tr>\n",
       "    <tr>\n",
       "      <th>3</th>\n",
       "      <td>MILLIE</td>\n",
       "      <td>LAB MIX</td>\n",
       "    </tr>\n",
       "    <tr>\n",
       "      <th>4</th>\n",
       "      <td>COOPER</td>\n",
       "      <td>LAB MIX</td>\n",
       "    </tr>\n",
       "    <tr>\n",
       "      <th>...</th>\n",
       "      <td>...</td>\n",
       "      <td>...</td>\n",
       "    </tr>\n",
       "    <tr>\n",
       "      <th>32192</th>\n",
       "      <td>MOE</td>\n",
       "      <td>CHIHUAHUA</td>\n",
       "    </tr>\n",
       "    <tr>\n",
       "      <th>32193</th>\n",
       "      <td>LINK</td>\n",
       "      <td>JACK RUSSEL TERRIER</td>\n",
       "    </tr>\n",
       "    <tr>\n",
       "      <th>32194</th>\n",
       "      <td>BAILEY SIMPSON</td>\n",
       "      <td>AM PIT BULL TERRIER</td>\n",
       "    </tr>\n",
       "    <tr>\n",
       "      <th>32195</th>\n",
       "      <td>EINSTEIN</td>\n",
       "      <td>AM PIT BULL TERRIER</td>\n",
       "    </tr>\n",
       "    <tr>\n",
       "      <th>32196</th>\n",
       "      <td>BELLA</td>\n",
       "      <td>MIXED</td>\n",
       "    </tr>\n",
       "  </tbody>\n",
       "</table>\n",
       "<p>32197 rows × 2 columns</p>\n",
       "</div>"
      ],
      "text/plain": [
       "              DogName                Breed\n",
       "0                OREO           POODLE MIX\n",
       "1              PEPPER         SHEPHERD MIX\n",
       "2                PETE   LABRADOR RETRIEVER\n",
       "3              MILLIE              LAB MIX\n",
       "4              COOPER              LAB MIX\n",
       "...               ...                  ...\n",
       "32192             MOE            CHIHUAHUA\n",
       "32193            LINK  JACK RUSSEL TERRIER\n",
       "32194  BAILEY SIMPSON  AM PIT BULL TERRIER\n",
       "32195        EINSTEIN  AM PIT BULL TERRIER\n",
       "32196           BELLA                MIXED\n",
       "\n",
       "[32197 rows x 2 columns]"
      ]
     },
     "execution_count": 23,
     "metadata": {},
     "output_type": "execute_result"
    }
   ],
   "source": [
    "doggos[two_things]"
   ]
  },
  {
   "cell_type": "markdown",
   "metadata": {},
   "source": [
    "Don't be afraid to use variables. If you don't need to see all of the code all-of-the-time, think about using them frequently. They can keep stuff organized and out of the way. Plus, if you name the variables something meaningful, future-you will thank past-you and present-you for your diligence."
   ]
  },
  {
   "cell_type": "markdown",
   "metadata": {},
   "source": [
    "What if you would like to do some sort of filtering? To do that, we'll introduce something called _masking_. Remember our friend the Boolean variable?"
   ]
  },
  {
   "cell_type": "code",
   "execution_count": 24,
   "metadata": {},
   "outputs": [
    {
     "data": {
      "text/plain": [
       "bool"
      ]
     },
     "execution_count": 24,
     "metadata": {},
     "output_type": "execute_result"
    }
   ],
   "source": [
    "type(True)"
   ]
  },
  {
   "cell_type": "markdown",
   "metadata": {},
   "source": [
    "When we want to filter our DataFrame, we create a mask of Trues and Falses. The thinking here, is that any place where there is a True, we want to keep it. Any place where there is a False, we want to hide, or _mask_ it. For example, what if we wanted to see all of the dogs who are named Pepper?"
   ]
  },
  {
   "cell_type": "code",
   "execution_count": 25,
   "metadata": {},
   "outputs": [
    {
     "data": {
      "text/plain": [
       "0        False\n",
       "1         True\n",
       "2        False\n",
       "3        False\n",
       "4        False\n",
       "         ...  \n",
       "32192    False\n",
       "32193    False\n",
       "32194    False\n",
       "32195    False\n",
       "32196    False\n",
       "Name: DogName, Length: 32197, dtype: bool"
      ]
     },
     "execution_count": 25,
     "metadata": {},
     "output_type": "execute_result"
    }
   ],
   "source": [
    "doggos['DogName'] == 'PEPPER'"
   ]
  },
  {
   "cell_type": "markdown",
   "metadata": {},
   "source": [
    "By taking the 'DogName' column and using the double-equals, we can see a Series where that is True or False. \n",
    "\n",
    "Also, we need to be careful here. Python is Case Sensitive. For purposes of what we're doing today, a dog named `Pepper` has a different name than a dog named `PEPPER`. Hopefully, our data is _clean_ enough where this isn't a problem. But that's for a future lesson."
   ]
  },
  {
   "cell_type": "markdown",
   "metadata": {},
   "source": [
    "This is all fine, but a list of Trues and Falses isn't all that useful. We want to see the result of this mask, not the mask itself. To turn a mask into the information, well, we just put the mask inside our square brackets, like this:"
   ]
  },
  {
   "cell_type": "code",
   "execution_count": 26,
   "metadata": {},
   "outputs": [
    {
     "data": {
      "text/html": [
       "<div>\n",
       "<style scoped>\n",
       "    .dataframe tbody tr th:only-of-type {\n",
       "        vertical-align: middle;\n",
       "    }\n",
       "\n",
       "    .dataframe tbody tr th {\n",
       "        vertical-align: top;\n",
       "    }\n",
       "\n",
       "    .dataframe thead th {\n",
       "        text-align: right;\n",
       "    }\n",
       "</style>\n",
       "<table border=\"1\" class=\"dataframe\">\n",
       "  <thead>\n",
       "    <tr style=\"text-align: right;\">\n",
       "      <th></th>\n",
       "      <th>LicenseType</th>\n",
       "      <th>Breed</th>\n",
       "      <th>Color</th>\n",
       "      <th>DogName</th>\n",
       "      <th>OwnerZip</th>\n",
       "      <th>ExpYear</th>\n",
       "      <th>ValidDate</th>\n",
       "    </tr>\n",
       "  </thead>\n",
       "  <tbody>\n",
       "    <tr>\n",
       "      <th>1</th>\n",
       "      <td>Dog Lifetime Neutered Male</td>\n",
       "      <td>SHEPHERD MIX</td>\n",
       "      <td>BLACK/TAN</td>\n",
       "      <td>PEPPER</td>\n",
       "      <td>15024</td>\n",
       "      <td>2099</td>\n",
       "      <td>2010-02-04T16:13:03</td>\n",
       "    </tr>\n",
       "    <tr>\n",
       "      <th>312</th>\n",
       "      <td>Dog Lifetime Spayed Female</td>\n",
       "      <td>AUS CATTLE DOG</td>\n",
       "      <td>SPOTTED</td>\n",
       "      <td>PEPPER</td>\n",
       "      <td>15024</td>\n",
       "      <td>2099</td>\n",
       "      <td>2004-03-09T00:00:00</td>\n",
       "    </tr>\n",
       "    <tr>\n",
       "      <th>367</th>\n",
       "      <td>Dog Lifetime Spayed Female</td>\n",
       "      <td>BISHON FRISE MIX</td>\n",
       "      <td>BLACK/SILVER</td>\n",
       "      <td>PEPPER</td>\n",
       "      <td>15143</td>\n",
       "      <td>2099</td>\n",
       "      <td>2013-04-22T13:11:01</td>\n",
       "    </tr>\n",
       "    <tr>\n",
       "      <th>818</th>\n",
       "      <td>Dog Lifetime Spayed Female</td>\n",
       "      <td>MIXED</td>\n",
       "      <td>BLACK</td>\n",
       "      <td>PEPPER</td>\n",
       "      <td>15235</td>\n",
       "      <td>2099</td>\n",
       "      <td>2004-06-25T00:00:00</td>\n",
       "    </tr>\n",
       "    <tr>\n",
       "      <th>954</th>\n",
       "      <td>Dog Lifetime Spayed Female</td>\n",
       "      <td>LABRADOR RETRIEVER</td>\n",
       "      <td>BLACK</td>\n",
       "      <td>PEPPER</td>\n",
       "      <td>15071</td>\n",
       "      <td>2099</td>\n",
       "      <td>2019-02-27T10:29:54</td>\n",
       "    </tr>\n",
       "    <tr>\n",
       "      <th>...</th>\n",
       "      <td>...</td>\n",
       "      <td>...</td>\n",
       "      <td>...</td>\n",
       "      <td>...</td>\n",
       "      <td>...</td>\n",
       "      <td>...</td>\n",
       "      <td>...</td>\n",
       "    </tr>\n",
       "    <tr>\n",
       "      <th>31528</th>\n",
       "      <td>Dog Lifetime Duplicate</td>\n",
       "      <td>LABRADOR RETRIEVER</td>\n",
       "      <td>BLACK</td>\n",
       "      <td>PEPPER</td>\n",
       "      <td>15120</td>\n",
       "      <td>2099</td>\n",
       "      <td>2017-03-27T09:38:06</td>\n",
       "    </tr>\n",
       "    <tr>\n",
       "      <th>31605</th>\n",
       "      <td>Dog Lifetime Spayed Female</td>\n",
       "      <td>TAG</td>\n",
       "      <td>WHITE/BLACK</td>\n",
       "      <td>PEPPER</td>\n",
       "      <td>15024</td>\n",
       "      <td>2099</td>\n",
       "      <td>2017-04-05T13:38:49</td>\n",
       "    </tr>\n",
       "    <tr>\n",
       "      <th>31695</th>\n",
       "      <td>Dog Lifetime Spayed Female</td>\n",
       "      <td>BEAGLE MIX</td>\n",
       "      <td>WHITE/BLACK/BROWN</td>\n",
       "      <td>PEPPER</td>\n",
       "      <td>15146</td>\n",
       "      <td>2099</td>\n",
       "      <td>2017-04-19T14:57:22</td>\n",
       "    </tr>\n",
       "    <tr>\n",
       "      <th>31916</th>\n",
       "      <td>Dog Lifetime Neutered Male</td>\n",
       "      <td>MORKIE</td>\n",
       "      <td>BLACK/TAN</td>\n",
       "      <td>PEPPER</td>\n",
       "      <td>15146</td>\n",
       "      <td>2099</td>\n",
       "      <td>2017-05-11T11:28:07</td>\n",
       "    </tr>\n",
       "    <tr>\n",
       "      <th>31942</th>\n",
       "      <td>Dog Senior Lifetime Neutered Male</td>\n",
       "      <td>COCKER SPANIEL MIX</td>\n",
       "      <td>WHITE/BLACK</td>\n",
       "      <td>PEPPER</td>\n",
       "      <td>15037</td>\n",
       "      <td>2099</td>\n",
       "      <td>2017-05-15T10:47:25</td>\n",
       "    </tr>\n",
       "  </tbody>\n",
       "</table>\n",
       "<p>83 rows × 7 columns</p>\n",
       "</div>"
      ],
      "text/plain": [
       "                             LicenseType               Breed  \\\n",
       "1             Dog Lifetime Neutered Male        SHEPHERD MIX   \n",
       "312           Dog Lifetime Spayed Female      AUS CATTLE DOG   \n",
       "367           Dog Lifetime Spayed Female    BISHON FRISE MIX   \n",
       "818           Dog Lifetime Spayed Female               MIXED   \n",
       "954           Dog Lifetime Spayed Female  LABRADOR RETRIEVER   \n",
       "...                                  ...                 ...   \n",
       "31528             Dog Lifetime Duplicate  LABRADOR RETRIEVER   \n",
       "31605         Dog Lifetime Spayed Female                 TAG   \n",
       "31695         Dog Lifetime Spayed Female          BEAGLE MIX   \n",
       "31916         Dog Lifetime Neutered Male              MORKIE   \n",
       "31942  Dog Senior Lifetime Neutered Male  COCKER SPANIEL MIX   \n",
       "\n",
       "                   Color DogName  OwnerZip  ExpYear            ValidDate  \n",
       "1              BLACK/TAN  PEPPER     15024     2099  2010-02-04T16:13:03  \n",
       "312              SPOTTED  PEPPER     15024     2099  2004-03-09T00:00:00  \n",
       "367         BLACK/SILVER  PEPPER     15143     2099  2013-04-22T13:11:01  \n",
       "818                BLACK  PEPPER     15235     2099  2004-06-25T00:00:00  \n",
       "954                BLACK  PEPPER     15071     2099  2019-02-27T10:29:54  \n",
       "...                  ...     ...       ...      ...                  ...  \n",
       "31528              BLACK  PEPPER     15120     2099  2017-03-27T09:38:06  \n",
       "31605        WHITE/BLACK  PEPPER     15024     2099  2017-04-05T13:38:49  \n",
       "31695  WHITE/BLACK/BROWN  PEPPER     15146     2099  2017-04-19T14:57:22  \n",
       "31916          BLACK/TAN  PEPPER     15146     2099  2017-05-11T11:28:07  \n",
       "31942        WHITE/BLACK  PEPPER     15037     2099  2017-05-15T10:47:25  \n",
       "\n",
       "[83 rows x 7 columns]"
      ]
     },
     "execution_count": 26,
     "metadata": {},
     "output_type": "execute_result"
    }
   ],
   "source": [
    "doggos[doggos['DogName'] == 'PEPPER']"
   ]
  },
  {
   "cell_type": "markdown",
   "metadata": {},
   "source": [
    "Using a DataFrame with a mask returns another DataFrame. You can see here the size is much smaller. What if we want to filter on two (or more) criteria? We can use Boolean operators with multiple masks. We won't go too much into the boolean operators here, but if you would like to find out all of the dogs named 'PEPPER' who are also 'LABRADOR RETRIEVER' we can use a Boolean AND with the ampersand symbol: `&`\n",
    "\n",
    "Be sure to put both masks inside parentheses so that the operations occur properly. I'm also going to assign it to a variable, just to make it easier to read. You certainly don't have to do this, but I like to keep things readable."
   ]
  },
  {
   "cell_type": "code",
   "execution_count": 27,
   "metadata": {},
   "outputs": [
    {
     "data": {
      "text/html": [
       "<div>\n",
       "<style scoped>\n",
       "    .dataframe tbody tr th:only-of-type {\n",
       "        vertical-align: middle;\n",
       "    }\n",
       "\n",
       "    .dataframe tbody tr th {\n",
       "        vertical-align: top;\n",
       "    }\n",
       "\n",
       "    .dataframe thead th {\n",
       "        text-align: right;\n",
       "    }\n",
       "</style>\n",
       "<table border=\"1\" class=\"dataframe\">\n",
       "  <thead>\n",
       "    <tr style=\"text-align: right;\">\n",
       "      <th></th>\n",
       "      <th>LicenseType</th>\n",
       "      <th>Breed</th>\n",
       "      <th>Color</th>\n",
       "      <th>DogName</th>\n",
       "      <th>OwnerZip</th>\n",
       "      <th>ExpYear</th>\n",
       "      <th>ValidDate</th>\n",
       "    </tr>\n",
       "  </thead>\n",
       "  <tbody>\n",
       "    <tr>\n",
       "      <th>954</th>\n",
       "      <td>Dog Lifetime Spayed Female</td>\n",
       "      <td>LABRADOR RETRIEVER</td>\n",
       "      <td>BLACK</td>\n",
       "      <td>PEPPER</td>\n",
       "      <td>15071</td>\n",
       "      <td>2099</td>\n",
       "      <td>2019-02-27T10:29:54</td>\n",
       "    </tr>\n",
       "    <tr>\n",
       "      <th>3248</th>\n",
       "      <td>Dog Lifetime Spayed Female</td>\n",
       "      <td>LABRADOR RETRIEVER</td>\n",
       "      <td>BLACK</td>\n",
       "      <td>PEPPER</td>\n",
       "      <td>15116</td>\n",
       "      <td>2099</td>\n",
       "      <td>2005-02-15T00:00:00</td>\n",
       "    </tr>\n",
       "    <tr>\n",
       "      <th>9621</th>\n",
       "      <td>Dog Lifetime Spayed Female</td>\n",
       "      <td>LABRADOR RETRIEVER</td>\n",
       "      <td>BLACK</td>\n",
       "      <td>PEPPER</td>\n",
       "      <td>15090</td>\n",
       "      <td>2099</td>\n",
       "      <td>2014-04-14T15:49:05</td>\n",
       "    </tr>\n",
       "    <tr>\n",
       "      <th>13344</th>\n",
       "      <td>Dog Lifetime Spayed Female</td>\n",
       "      <td>LABRADOR RETRIEVER</td>\n",
       "      <td>BLACK</td>\n",
       "      <td>PEPPER</td>\n",
       "      <td>15239</td>\n",
       "      <td>2099</td>\n",
       "      <td>2008-10-06T12:25:19</td>\n",
       "    </tr>\n",
       "    <tr>\n",
       "      <th>14332</th>\n",
       "      <td>Dog Lifetime Duplicate</td>\n",
       "      <td>LABRADOR RETRIEVER</td>\n",
       "      <td>BLACK</td>\n",
       "      <td>PEPPER</td>\n",
       "      <td>15239</td>\n",
       "      <td>2099</td>\n",
       "      <td>2014-11-05T10:12:09</td>\n",
       "    </tr>\n",
       "    <tr>\n",
       "      <th>22207</th>\n",
       "      <td>Dog Lifetime Spayed Female</td>\n",
       "      <td>LABRADOR RETRIEVER</td>\n",
       "      <td>BLACK</td>\n",
       "      <td>PEPPER</td>\n",
       "      <td>15215</td>\n",
       "      <td>2099</td>\n",
       "      <td>2015-03-27T10:56:24</td>\n",
       "    </tr>\n",
       "    <tr>\n",
       "      <th>22517</th>\n",
       "      <td>Dog Lifetime Spayed Female</td>\n",
       "      <td>LABRADOR RETRIEVER</td>\n",
       "      <td>BLACK</td>\n",
       "      <td>PEPPER</td>\n",
       "      <td>15120</td>\n",
       "      <td>2099</td>\n",
       "      <td>2016-08-03T09:36:48</td>\n",
       "    </tr>\n",
       "    <tr>\n",
       "      <th>25220</th>\n",
       "      <td>Dog Lifetime Spayed Female</td>\n",
       "      <td>LABRADOR RETRIEVER</td>\n",
       "      <td>BLACK</td>\n",
       "      <td>PEPPER</td>\n",
       "      <td>15216</td>\n",
       "      <td>2099</td>\n",
       "      <td>2012-02-27T15:57:18</td>\n",
       "    </tr>\n",
       "    <tr>\n",
       "      <th>31528</th>\n",
       "      <td>Dog Lifetime Duplicate</td>\n",
       "      <td>LABRADOR RETRIEVER</td>\n",
       "      <td>BLACK</td>\n",
       "      <td>PEPPER</td>\n",
       "      <td>15120</td>\n",
       "      <td>2099</td>\n",
       "      <td>2017-03-27T09:38:06</td>\n",
       "    </tr>\n",
       "  </tbody>\n",
       "</table>\n",
       "</div>"
      ],
      "text/plain": [
       "                      LicenseType               Breed  Color DogName  \\\n",
       "954    Dog Lifetime Spayed Female  LABRADOR RETRIEVER  BLACK  PEPPER   \n",
       "3248   Dog Lifetime Spayed Female  LABRADOR RETRIEVER  BLACK  PEPPER   \n",
       "9621   Dog Lifetime Spayed Female  LABRADOR RETRIEVER  BLACK  PEPPER   \n",
       "13344  Dog Lifetime Spayed Female  LABRADOR RETRIEVER  BLACK  PEPPER   \n",
       "14332      Dog Lifetime Duplicate  LABRADOR RETRIEVER  BLACK  PEPPER   \n",
       "22207  Dog Lifetime Spayed Female  LABRADOR RETRIEVER  BLACK  PEPPER   \n",
       "22517  Dog Lifetime Spayed Female  LABRADOR RETRIEVER  BLACK  PEPPER   \n",
       "25220  Dog Lifetime Spayed Female  LABRADOR RETRIEVER  BLACK  PEPPER   \n",
       "31528      Dog Lifetime Duplicate  LABRADOR RETRIEVER  BLACK  PEPPER   \n",
       "\n",
       "       OwnerZip  ExpYear            ValidDate  \n",
       "954       15071     2099  2019-02-27T10:29:54  \n",
       "3248      15116     2099  2005-02-15T00:00:00  \n",
       "9621      15090     2099  2014-04-14T15:49:05  \n",
       "13344     15239     2099  2008-10-06T12:25:19  \n",
       "14332     15239     2099  2014-11-05T10:12:09  \n",
       "22207     15215     2099  2015-03-27T10:56:24  \n",
       "22517     15120     2099  2016-08-03T09:36:48  \n",
       "25220     15216     2099  2012-02-27T15:57:18  \n",
       "31528     15120     2099  2017-03-27T09:38:06  "
      ]
     },
     "execution_count": 27,
     "metadata": {},
     "output_type": "execute_result"
    }
   ],
   "source": [
    "name_and_breed = (doggos['DogName'] == 'PEPPER') & (doggos['Breed'] == 'LABRADOR RETRIEVER')\n",
    "\n",
    "doggos[name_and_breed]"
   ]
  },
  {
   "cell_type": "markdown",
   "metadata": {},
   "source": [
    "Yay! We have this filtered down to a DataFrame that is small enough that Pandas can show us all of the results at once!"
   ]
  },
  {
   "cell_type": "markdown",
   "metadata": {},
   "source": [
    "Now, let's do some analysis and document processing based upon our data. How would we figure out the most popular dog name in this list? Well, let's do a new operation: `.groupby()`. What does that look like?"
   ]
  },
  {
   "cell_type": "code",
   "execution_count": 28,
   "metadata": {},
   "outputs": [
    {
     "data": {
      "text/plain": [
       "<pandas.core.groupby.generic.DataFrameGroupBy object at 0x10f8e6b70>"
      ]
     },
     "execution_count": 28,
     "metadata": {},
     "output_type": "execute_result"
    }
   ],
   "source": [
    "doggos.groupby('DogName')"
   ]
  },
  {
   "cell_type": "markdown",
   "metadata": {},
   "source": [
    "We're grouping by dog name, but the output doesn't make much sense. This is a bunch of stuff that is less helpful than even the mask above.\n",
    "\n",
    "When Pandas uses the `.groupby()` method, it expects that the _next_ thing will supply what you're trying to measure. Remember when we said that the thing to the left of a period provides the context to the thing to the right? Well, we can do that with an operation. In this case, we'll use `.size()` which measures the size of a group by counting how many things are in it. "
   ]
  },
  {
   "cell_type": "code",
   "execution_count": 29,
   "metadata": {},
   "outputs": [
    {
     "data": {
      "text/plain": [
       "DogName\n",
       " BABY (NINA)      1\n",
       " CHEBA            2\n",
       " ELWOOD MARINO    1\n",
       " FIONA            1\n",
       " GEORGE           1\n",
       "                 ..\n",
       "lifetimeANNIE     1\n",
       "lilly             1\n",
       "louey             2\n",
       "pepper            1\n",
       "shasta            1\n",
       "Length: 7952, dtype: int64"
      ]
     },
     "execution_count": 29,
     "metadata": {},
     "output_type": "execute_result"
    }
   ],
   "source": [
    "doggos.groupby('DogName').size()"
   ]
  },
  {
   "cell_type": "markdown",
   "metadata": {},
   "source": [
    "This should look pretty familiar. We've done an operation on a DataFrame and returned a Series. We're seeing the names and counts. From this we can see that there are almost 8000 distinct names. But, we'd like to see the top names, right? Well, let's do the left-and-right-of-the-period thing again, and `.sort_values()`"
   ]
  },
  {
   "cell_type": "code",
   "execution_count": 30,
   "metadata": {},
   "outputs": [
    {
     "data": {
      "text/plain": [
       "DogName\n",
       " BABY (NINA)      1\n",
       "MILLER LOU        1\n",
       "MILLEE            1\n",
       "MILISH            1\n",
       "MILEY             1\n",
       "               ... \n",
       "BAILEY          272\n",
       "DAISY           276\n",
       "MOLLY           279\n",
       "LUCY            313\n",
       "BELLA           440\n",
       "Length: 7952, dtype: int64"
      ]
     },
     "execution_count": 30,
     "metadata": {},
     "output_type": "execute_result"
    }
   ],
   "source": [
    "doggos.groupby('DogName').size().sort_values()"
   ]
  },
  {
   "cell_type": "markdown",
   "metadata": {},
   "source": [
    "By default, `.sort_values()` assumes you want your Series sorted _ascending_, which means the lowest values are at the top. If you would like that reversed, you can give `.sort_values()` the keyword argument: `ascending=False`."
   ]
  },
  {
   "cell_type": "code",
   "execution_count": 31,
   "metadata": {},
   "outputs": [
    {
     "data": {
      "text/plain": [
       "DogName\n",
       "BELLA           440\n",
       "LUCY            313\n",
       "MOLLY           279\n",
       "DAISY           276\n",
       "BAILEY          272\n",
       "               ... \n",
       "MILEY             1\n",
       "MILISH            1\n",
       "MILLEE            1\n",
       "MILLER LOU        1\n",
       " BABY (NINA)      1\n",
       "Length: 7952, dtype: int64"
      ]
     },
     "execution_count": 31,
     "metadata": {},
     "output_type": "execute_result"
    }
   ],
   "source": [
    "doggos.groupby('DogName').size().sort_values(ascending=False)"
   ]
  },
  {
   "cell_type": "markdown",
   "metadata": {},
   "source": [
    "ok! This is starting to come together. We're seeing a sorted list of the most popular names. But we just want the top ones. Let's bring back `.head()`, and give it an argument. Want the top 10 names?"
   ]
  },
  {
   "cell_type": "code",
   "execution_count": 32,
   "metadata": {},
   "outputs": [
    {
     "data": {
      "text/plain": [
       "DogName\n",
       "BELLA      440\n",
       "LUCY       313\n",
       "MOLLY      279\n",
       "DAISY      276\n",
       "BAILEY     272\n",
       "SADIE      265\n",
       "MAX        247\n",
       "CHARLIE    246\n",
       "BUDDY      236\n",
       "MAGGIE     209\n",
       "dtype: int64"
      ]
     },
     "execution_count": 32,
     "metadata": {},
     "output_type": "execute_result"
    }
   ],
   "source": [
    "doggos.groupby('DogName').size().sort_values(ascending=False).head(10)"
   ]
  },
  {
   "cell_type": "markdown",
   "metadata": {},
   "source": [
    "Let's pause a second and talk about what we've done. We've taken a DataFrame and grouped by 'DogName'. We then got the size of each group, which was a new Series. We then took that Series and sorted it. This gave us a new Series, and we took the top 10 results of that Series. And, from that we get a what? A Series!\n",
    "\n",
    "You may think I just wanted to say Series a lot. Well... yeah... I did. But, the point is, every time we get some sort of output, and we know what the output type is, we can do operations on it just like it was the first operation we did! Nesting operations like this is fairly common, and we can use it to our benefit."
   ]
  },
  {
   "cell_type": "markdown",
   "metadata": {},
   "source": [
    "See how in the output above, we have a list of names, and a list of counts? Notice where the names are? They're in the index! This is what I was talking about before - we aren't required to have an index of numbers. And, since it's an index, we can use `.index` of a Series to get just the values in the index:"
   ]
  },
  {
   "cell_type": "code",
   "execution_count": 33,
   "metadata": {},
   "outputs": [
    {
     "data": {
      "text/plain": [
       "Index(['BELLA', 'LUCY', 'MOLLY', 'DAISY', 'BAILEY', 'SADIE', 'MAX', 'CHARLIE',\n",
       "       'BUDDY', 'MAGGIE'],\n",
       "      dtype='object', name='DogName')"
      ]
     },
     "execution_count": 33,
     "metadata": {},
     "output_type": "execute_result"
    }
   ],
   "source": [
    "doggos.groupby('DogName').size().sort_values(ascending=False).head(10).index"
   ]
  },
  {
   "cell_type": "markdown",
   "metadata": {},
   "source": [
    "We should see something similar inside of the parentheses - something that looks like a list. And what can we do with list-like things? Iterate over them!\n",
    "\n",
    "Let's go ahead and assign this to a new variable:"
   ]
  },
  {
   "cell_type": "code",
   "execution_count": 34,
   "metadata": {},
   "outputs": [],
   "source": [
    "pop_name = doggos.groupby('DogName').size().sort_values(ascending=False).head(10).index"
   ]
  },
  {
   "cell_type": "markdown",
   "metadata": {},
   "source": [
    "To do the next thing, we'll introduce a new operation. Up at the top, we used `.read_csv()`. Now, we're going to use its sibling: `.to_csv()`. Where `.read_csv()` went and got a CSV file and _read_ the content, `.to_csv()` will take the content of a DataFrame and write it to a CSV file named as the argument. Wowsers!"
   ]
  },
  {
   "cell_type": "markdown",
   "metadata": {},
   "source": [
    "Before you run the next cell, let's break it down piece by piece:\n",
    "\n",
    "-  `for dog_name in pop_name:` In our previous lesson, we used `for` loops to _iterate_ over some sort of list-like container. `for` pulls an item out; does something with it; and starts over with a new something. Here we have a list-like group of popular\\* dog names. We'll grab one and assign it to the variable `dog_name`.\n",
    "- `doggos['DogName']== dog_name` Each time we run the code in the `for` loop, we're doing it with a different value in the `dog_name` variable. We're making a mask with each iteration of the `for` loop based upon that value.\n",
    "- `doggos[doggos['DogName']== dog_name]` This is the doggos DataFrame filtered on the dog name that is in the `dog_name` variable.\n",
    "- `f'{dog_name}.csv'` This is our friend, The String, with a formatted variable. We're using the value in `dog_name` to create a new file name. If the value in `dog_name` is `PEPPER` this will create the file `PEPPER.csv`\n",
    "- `.to_csv(f'{dog_name}.csv')` This takes the DataFrame to the left of the period, and saves it to a CSV file using the name in `dog_name`.\n",
    "\n",
    "\n",
    "\n",
    "\\* I literally typed pupular by accident here. Puns seem to be contentious, so I'll fix it."
   ]
  },
  {
   "cell_type": "code",
   "execution_count": 35,
   "metadata": {},
   "outputs": [],
   "source": [
    "for dog_name in pop_name:\n",
    "    doggos[doggos['DogName']== dog_name].to_csv(f'{dog_name}.csv')"
   ]
  },
  {
   "cell_type": "markdown",
   "metadata": {},
   "source": [
    "If you'll look in the folder you're working in currently, you'll see that you've created a bunch of CSV files. If you open them up, each one should only contain the records from the original doggos DataFrame that have the name that matches the name on the file! Neat!"
   ]
  },
  {
   "cell_type": "markdown",
   "metadata": {},
   "source": [
    "Some possible ideas for this functionality:\n",
    "\n",
    "- Open a CSV file of donors and separate them by region/state/city.\n",
    "- Open a list of e-resources and generate reports based upon item type.\n",
    "- Create a CSV for a vendor that has a list of the top 100 most popular titles by usage count."
   ]
  }
 ],
 "metadata": {
  "kernelspec": {
   "display_name": "Python 3",
   "language": "python",
   "name": "python3"
  },
  "language_info": {
   "codemirror_mode": {
    "name": "ipython",
    "version": 3
   },
   "file_extension": ".py",
   "mimetype": "text/x-python",
   "name": "python",
   "nbconvert_exporter": "python",
   "pygments_lexer": "ipython3",
   "version": "3.7.3"
  }
 },
 "nbformat": 4,
 "nbformat_minor": 2
}
